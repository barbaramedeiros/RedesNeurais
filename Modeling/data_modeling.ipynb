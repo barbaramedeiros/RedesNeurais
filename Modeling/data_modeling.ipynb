{
 "cells": [
  {
   "cell_type": "code",
   "execution_count": 5,
   "metadata": {},
   "outputs": [],
   "source": [
    "import numpy as np\n",
    "import pandas as pd\n",
    "import random\n",
    "import matplotlib.pyplot as plt\n",
    "from tensorflow.keras.layers import Dense\n",
    "from tensorflow.keras.models import Sequential\n",
    "from sklearn.preprocessing import StandardScaler\n",
    "from sklearn.model_selection import train_test_split\n",
    "from sklearn.metrics import classification_report\n",
    "from sklearn.metrics import confusion_matrix"
   ]
  },
  {
   "cell_type": "code",
   "execution_count": 6,
   "metadata": {},
   "outputs": [
    {
     "data": {
      "text/html": [
       "<div>\n",
       "<style scoped>\n",
       "    .dataframe tbody tr th:only-of-type {\n",
       "        vertical-align: middle;\n",
       "    }\n",
       "\n",
       "    .dataframe tbody tr th {\n",
       "        vertical-align: top;\n",
       "    }\n",
       "\n",
       "    .dataframe thead th {\n",
       "        text-align: right;\n",
       "    }\n",
       "</style>\n",
       "<table border=\"1\" class=\"dataframe\">\n",
       "  <thead>\n",
       "    <tr style=\"text-align: right;\">\n",
       "      <th></th>\n",
       "      <th>type</th>\n",
       "      <th>fixed_acidity</th>\n",
       "      <th>volatile_acidity</th>\n",
       "      <th>citric_acid</th>\n",
       "      <th>residual_sugar</th>\n",
       "      <th>chlorides</th>\n",
       "      <th>free_sulfur_dioxide</th>\n",
       "      <th>total_sulfur_dioxide</th>\n",
       "      <th>density</th>\n",
       "      <th>pH</th>\n",
       "      <th>sulphates</th>\n",
       "      <th>alcohol</th>\n",
       "      <th>opinion</th>\n",
       "    </tr>\n",
       "  </thead>\n",
       "  <tbody>\n",
       "    <tr>\n",
       "      <th>0</th>\n",
       "      <td>1</td>\n",
       "      <td>7.0</td>\n",
       "      <td>0.27</td>\n",
       "      <td>0.36</td>\n",
       "      <td>4.549725</td>\n",
       "      <td>0.212132</td>\n",
       "      <td>3.806662</td>\n",
       "      <td>5.135798</td>\n",
       "      <td>1.0010</td>\n",
       "      <td>3.00</td>\n",
       "      <td>0.45</td>\n",
       "      <td>8.8</td>\n",
       "      <td>1</td>\n",
       "    </tr>\n",
       "    <tr>\n",
       "      <th>1</th>\n",
       "      <td>1</td>\n",
       "      <td>6.3</td>\n",
       "      <td>0.30</td>\n",
       "      <td>0.34</td>\n",
       "      <td>1.264911</td>\n",
       "      <td>0.221359</td>\n",
       "      <td>2.639057</td>\n",
       "      <td>4.882802</td>\n",
       "      <td>0.9940</td>\n",
       "      <td>3.30</td>\n",
       "      <td>0.49</td>\n",
       "      <td>9.5</td>\n",
       "      <td>1</td>\n",
       "    </tr>\n",
       "    <tr>\n",
       "      <th>2</th>\n",
       "      <td>1</td>\n",
       "      <td>8.1</td>\n",
       "      <td>0.28</td>\n",
       "      <td>0.40</td>\n",
       "      <td>2.626785</td>\n",
       "      <td>0.223607</td>\n",
       "      <td>3.401197</td>\n",
       "      <td>4.574711</td>\n",
       "      <td>0.9951</td>\n",
       "      <td>3.26</td>\n",
       "      <td>0.44</td>\n",
       "      <td>10.1</td>\n",
       "      <td>1</td>\n",
       "    </tr>\n",
       "    <tr>\n",
       "      <th>3</th>\n",
       "      <td>1</td>\n",
       "      <td>7.2</td>\n",
       "      <td>0.23</td>\n",
       "      <td>0.32</td>\n",
       "      <td>2.915476</td>\n",
       "      <td>0.240832</td>\n",
       "      <td>3.850148</td>\n",
       "      <td>5.225747</td>\n",
       "      <td>0.9956</td>\n",
       "      <td>3.19</td>\n",
       "      <td>0.40</td>\n",
       "      <td>9.9</td>\n",
       "      <td>1</td>\n",
       "    </tr>\n",
       "    <tr>\n",
       "      <th>4</th>\n",
       "      <td>1</td>\n",
       "      <td>7.2</td>\n",
       "      <td>0.23</td>\n",
       "      <td>0.32</td>\n",
       "      <td>2.915476</td>\n",
       "      <td>0.240832</td>\n",
       "      <td>3.850148</td>\n",
       "      <td>5.225747</td>\n",
       "      <td>0.9956</td>\n",
       "      <td>3.19</td>\n",
       "      <td>0.40</td>\n",
       "      <td>9.9</td>\n",
       "      <td>1</td>\n",
       "    </tr>\n",
       "  </tbody>\n",
       "</table>\n",
       "</div>"
      ],
      "text/plain": [
       "   type  fixed_acidity  volatile_acidity  citric_acid  residual_sugar  \\\n",
       "0     1            7.0              0.27         0.36        4.549725   \n",
       "1     1            6.3              0.30         0.34        1.264911   \n",
       "2     1            8.1              0.28         0.40        2.626785   \n",
       "3     1            7.2              0.23         0.32        2.915476   \n",
       "4     1            7.2              0.23         0.32        2.915476   \n",
       "\n",
       "   chlorides  free_sulfur_dioxide  total_sulfur_dioxide  density    pH  \\\n",
       "0   0.212132             3.806662              5.135798   1.0010  3.00   \n",
       "1   0.221359             2.639057              4.882802   0.9940  3.30   \n",
       "2   0.223607             3.401197              4.574711   0.9951  3.26   \n",
       "3   0.240832             3.850148              5.225747   0.9956  3.19   \n",
       "4   0.240832             3.850148              5.225747   0.9956  3.19   \n",
       "\n",
       "   sulphates  alcohol  opinion  \n",
       "0       0.45      8.8        1  \n",
       "1       0.49      9.5        1  \n",
       "2       0.44     10.1        1  \n",
       "3       0.40      9.9        1  \n",
       "4       0.40      9.9        1  "
      ]
     },
     "execution_count": 6,
     "metadata": {},
     "output_type": "execute_result"
    }
   ],
   "source": [
    "data = pd.read_csv(\n",
    "    r'C:\\Users\\Barbara\\Desktop\\Estudos\\Infnet\\Data_Science\\7-Redes_Neurais\\Projeto\\Data_Preparation\\data\\processed\\branco.csv')\n",
    "data.head()"
   ]
  },
  {
   "cell_type": "code",
   "execution_count": 7,
   "metadata": {},
   "outputs": [],
   "source": [
    "data.drop(columns=['type'], inplace=True)"
   ]
  },
  {
   "cell_type": "code",
   "execution_count": 31,
   "metadata": {},
   "outputs": [],
   "source": [
    "target = 'opinion'\n",
    "x = data.drop(columns=[target])\n",
    "y = data[[target]]"
   ]
  },
  {
   "cell_type": "code",
   "execution_count": 32,
   "metadata": {},
   "outputs": [],
   "source": [
    "x_train, x_test, y_train, y_test = train_test_split(\n",
    "    x, y, test_size=0.3, stratify=y)\n",
    "x_train, x_val, y_train, y_val = train_test_split(\n",
    "    x_train, y_train, test_size=0.3, stratify=y_train)"
   ]
  },
  {
   "cell_type": "code",
   "execution_count": 33,
   "metadata": {},
   "outputs": [
    {
     "data": {
      "text/html": [
       "<div>\n",
       "<style scoped>\n",
       "    .dataframe tbody tr th:only-of-type {\n",
       "        vertical-align: middle;\n",
       "    }\n",
       "\n",
       "    .dataframe tbody tr th {\n",
       "        vertical-align: top;\n",
       "    }\n",
       "\n",
       "    .dataframe thead th {\n",
       "        text-align: right;\n",
       "    }\n",
       "</style>\n",
       "<table border=\"1\" class=\"dataframe\">\n",
       "  <thead>\n",
       "    <tr style=\"text-align: right;\">\n",
       "      <th></th>\n",
       "      <th>original</th>\n",
       "      <th>treino</th>\n",
       "      <th>val</th>\n",
       "      <th>teste</th>\n",
       "    </tr>\n",
       "    <tr>\n",
       "      <th>opinion</th>\n",
       "      <th></th>\n",
       "      <th></th>\n",
       "      <th></th>\n",
       "      <th></th>\n",
       "    </tr>\n",
       "  </thead>\n",
       "  <tbody>\n",
       "    <tr>\n",
       "      <th>1</th>\n",
       "      <td>0.667765</td>\n",
       "      <td>0.667788</td>\n",
       "      <td>0.667647</td>\n",
       "      <td>0.667811</td>\n",
       "    </tr>\n",
       "    <tr>\n",
       "      <th>0</th>\n",
       "      <td>0.332235</td>\n",
       "      <td>0.332212</td>\n",
       "      <td>0.332353</td>\n",
       "      <td>0.332189</td>\n",
       "    </tr>\n",
       "  </tbody>\n",
       "</table>\n",
       "</div>"
      ],
      "text/plain": [
       "         original    treino       val     teste\n",
       "opinion                                        \n",
       "1        0.667765  0.667788  0.667647  0.667811\n",
       "0        0.332235  0.332212  0.332353  0.332189"
      ]
     },
     "execution_count": 33,
     "metadata": {},
     "output_type": "execute_result"
    }
   ],
   "source": [
    "props = pd.DataFrame(data[target].value_counts(normalize=True).values,\n",
    "                     index=data[target].value_counts(normalize=True).index,\n",
    "                     columns=['original'])\n",
    "props['treino'] = y_train[target].value_counts(normalize=True).values\n",
    "props['val'] = y_val[target].value_counts(normalize=True).values\n",
    "props['teste'] = y_test[target].value_counts(normalize=True).values\n",
    "props"
   ]
  },
  {
   "cell_type": "code",
   "execution_count": 34,
   "metadata": {},
   "outputs": [],
   "source": [
    "scaler = StandardScaler()\n",
    "scaler.fit(x_train)\n",
    "x_train_norm = scaler.transform(x_train)\n",
    "x_val_norm = scaler.transform(x_val)\n",
    "x_test_norm = scaler.transform(x_test)"
   ]
  },
  {
   "cell_type": "code",
   "execution_count": 35,
   "metadata": {},
   "outputs": [],
   "source": [
    "random.seed()\n",
    "\n",
    "def create_ann_model(x, n_neurons: list):\n",
    "  model = Sequential()\n",
    "  if len(n_neurons) == 1:\n",
    "    model.add(Dense(n_neurons[0], input_shape=(11,), activation='relu')) \n",
    "\n",
    "  model.add(Dense(1, activation='sigmoid')) \n",
    "\n",
    "  return model"
   ]
  },
  {
   "cell_type": "code",
   "execution_count": 37,
   "metadata": {},
   "outputs": [
    {
     "name": "stdout",
     "output_type": "stream",
     "text": [
      "Model: \"sequential_3\"\n",
      "_________________________________________________________________\n",
      " Layer (type)                Output Shape              Param #   \n",
      "=================================================================\n",
      " dense_6 (Dense)             (None, 11)                132       \n",
      "                                                                 \n",
      " dense_7 (Dense)             (None, 1)                 12        \n"
     ]
    },
    {
     "name": "stdout",
     "output_type": "stream",
     "text": [
      "                                                                 \n",
      "=================================================================\n",
      "Total params: 144 (576.00 Byte)\n",
      "Trainable params: 144 (576.00 Byte)\n",
      "Non-trainable params: 0 (0.00 Byte)\n",
      "_________________________________________________________________\n"
     ]
    }
   ],
   "source": [
    "model = create_ann_model(x_train_norm, n_neurons=[11])\n",
    "model.summary()"
   ]
  },
  {
   "cell_type": "code",
   "execution_count": 38,
   "metadata": {},
   "outputs": [
    {
     "name": "stdout",
     "output_type": "stream",
     "text": [
      "Epoch 1/100\n",
      "2/2 [==============================] - 1s 174ms/step - loss: 0.8152 - recall: 0.4509 - val_loss: 0.8061 - val_recall: 0.4728\n",
      "Epoch 2/100\n",
      "2/2 [==============================] - 0s 33ms/step - loss: 0.8087 - recall: 0.4591 - val_loss: 0.8001 - val_recall: 0.4802\n",
      "Epoch 3/100\n",
      "2/2 [==============================] - 0s 30ms/step - loss: 0.8023 - recall: 0.4610 - val_loss: 0.7942 - val_recall: 0.4787\n",
      "Epoch 4/100\n",
      "2/2 [==============================] - 0s 53ms/step - loss: 0.7960 - recall: 0.4647 - val_loss: 0.7884 - val_recall: 0.4846\n",
      "Epoch 5/100\n",
      "2/2 [==============================] - 0s 35ms/step - loss: 0.7899 - recall: 0.4685 - val_loss: 0.7827 - val_recall: 0.4963\n",
      "Epoch 6/100\n",
      "2/2 [==============================] - 0s 35ms/step - loss: 0.7840 - recall: 0.4717 - val_loss: 0.7772 - val_recall: 0.4978\n",
      "Epoch 7/100\n",
      "2/2 [==============================] - 0s 31ms/step - loss: 0.7780 - recall: 0.4780 - val_loss: 0.7718 - val_recall: 0.5022\n",
      "Epoch 8/100\n",
      "2/2 [==============================] - 0s 33ms/step - loss: 0.7722 - recall: 0.4868 - val_loss: 0.7665 - val_recall: 0.5110\n",
      "Epoch 9/100\n",
      "2/2 [==============================] - 0s 33ms/step - loss: 0.7666 - recall: 0.4906 - val_loss: 0.7613 - val_recall: 0.5140\n",
      "Epoch 10/100\n",
      "2/2 [==============================] - 0s 33ms/step - loss: 0.7609 - recall: 0.4994 - val_loss: 0.7562 - val_recall: 0.5184\n",
      "Epoch 11/100\n",
      "2/2 [==============================] - 0s 40ms/step - loss: 0.7556 - recall: 0.5038 - val_loss: 0.7513 - val_recall: 0.5213\n",
      "Epoch 12/100\n",
      "2/2 [==============================] - 0s 49ms/step - loss: 0.7502 - recall: 0.5088 - val_loss: 0.7465 - val_recall: 0.5242\n",
      "Epoch 13/100\n",
      "2/2 [==============================] - 0s 31ms/step - loss: 0.7450 - recall: 0.5120 - val_loss: 0.7417 - val_recall: 0.5360\n",
      "Epoch 14/100\n",
      "2/2 [==============================] - 0s 36ms/step - loss: 0.7399 - recall: 0.5176 - val_loss: 0.7370 - val_recall: 0.5404\n",
      "Epoch 15/100\n",
      "2/2 [==============================] - 0s 43ms/step - loss: 0.7348 - recall: 0.5271 - val_loss: 0.7325 - val_recall: 0.5521\n",
      "Epoch 16/100\n",
      "2/2 [==============================] - 0s 35ms/step - loss: 0.7299 - recall: 0.5372 - val_loss: 0.7281 - val_recall: 0.5551\n",
      "Epoch 17/100\n",
      "2/2 [==============================] - 0s 50ms/step - loss: 0.7251 - recall: 0.5390 - val_loss: 0.7238 - val_recall: 0.5624\n",
      "Epoch 18/100\n",
      "2/2 [==============================] - 0s 41ms/step - loss: 0.7203 - recall: 0.5466 - val_loss: 0.7195 - val_recall: 0.5668\n",
      "Epoch 19/100\n",
      "2/2 [==============================] - 0s 34ms/step - loss: 0.7156 - recall: 0.5548 - val_loss: 0.7154 - val_recall: 0.5742\n",
      "Epoch 20/100\n",
      "2/2 [==============================] - 0s 43ms/step - loss: 0.7111 - recall: 0.5598 - val_loss: 0.7113 - val_recall: 0.5844\n",
      "Epoch 21/100\n",
      "2/2 [==============================] - 0s 32ms/step - loss: 0.7066 - recall: 0.5686 - val_loss: 0.7073 - val_recall: 0.5977\n",
      "Epoch 22/100\n",
      "2/2 [==============================] - 0s 35ms/step - loss: 0.7022 - recall: 0.5800 - val_loss: 0.7034 - val_recall: 0.6035\n",
      "Epoch 23/100\n",
      "2/2 [==============================] - 0s 34ms/step - loss: 0.6979 - recall: 0.5863 - val_loss: 0.6996 - val_recall: 0.6138\n",
      "Epoch 24/100\n",
      "2/2 [==============================] - 0s 41ms/step - loss: 0.6937 - recall: 0.6001 - val_loss: 0.6959 - val_recall: 0.6256\n",
      "Epoch 25/100\n",
      "2/2 [==============================] - 0s 33ms/step - loss: 0.6896 - recall: 0.6108 - val_loss: 0.6922 - val_recall: 0.6314\n",
      "Epoch 26/100\n",
      "2/2 [==============================] - 0s 32ms/step - loss: 0.6853 - recall: 0.6203 - val_loss: 0.6886 - val_recall: 0.6520\n",
      "Epoch 27/100\n",
      "2/2 [==============================] - 0s 49ms/step - loss: 0.6814 - recall: 0.6253 - val_loss: 0.6850 - val_recall: 0.6579\n",
      "Epoch 28/100\n",
      "2/2 [==============================] - 0s 32ms/step - loss: 0.6774 - recall: 0.6379 - val_loss: 0.6816 - val_recall: 0.6799\n",
      "Epoch 29/100\n",
      "2/2 [==============================] - 0s 37ms/step - loss: 0.6736 - recall: 0.6511 - val_loss: 0.6781 - val_recall: 0.6960\n",
      "Epoch 30/100\n",
      "2/2 [==============================] - 0s 35ms/step - loss: 0.6697 - recall: 0.6656 - val_loss: 0.6748 - val_recall: 0.6990\n",
      "Epoch 31/100\n",
      "2/2 [==============================] - 0s 33ms/step - loss: 0.6660 - recall: 0.6725 - val_loss: 0.6715 - val_recall: 0.7078\n",
      "Epoch 32/100\n",
      "2/2 [==============================] - 0s 38ms/step - loss: 0.6623 - recall: 0.6851 - val_loss: 0.6683 - val_recall: 0.7166\n",
      "Epoch 33/100\n",
      "2/2 [==============================] - 0s 33ms/step - loss: 0.6587 - recall: 0.6977 - val_loss: 0.6651 - val_recall: 0.7298\n",
      "Epoch 34/100\n",
      "2/2 [==============================] - 0s 36ms/step - loss: 0.6552 - recall: 0.7065 - val_loss: 0.6619 - val_recall: 0.7298\n",
      "Epoch 35/100\n",
      "2/2 [==============================] - 0s 54ms/step - loss: 0.6516 - recall: 0.7116 - val_loss: 0.6589 - val_recall: 0.7401\n",
      "Epoch 36/100\n",
      "2/2 [==============================] - 0s 36ms/step - loss: 0.6481 - recall: 0.7248 - val_loss: 0.6558 - val_recall: 0.7445\n",
      "Epoch 37/100\n",
      "2/2 [==============================] - 0s 34ms/step - loss: 0.6447 - recall: 0.7349 - val_loss: 0.6528 - val_recall: 0.7548\n",
      "Epoch 38/100\n",
      "2/2 [==============================] - 0s 35ms/step - loss: 0.6412 - recall: 0.7456 - val_loss: 0.6498 - val_recall: 0.7680\n",
      "Epoch 39/100\n",
      "2/2 [==============================] - 0s 33ms/step - loss: 0.6379 - recall: 0.7494 - val_loss: 0.6468 - val_recall: 0.7783\n",
      "Epoch 40/100\n",
      "2/2 [==============================] - 0s 33ms/step - loss: 0.6346 - recall: 0.7557 - val_loss: 0.6439 - val_recall: 0.7856\n",
      "Epoch 41/100\n",
      "2/2 [==============================] - 0s 33ms/step - loss: 0.6313 - recall: 0.7588 - val_loss: 0.6411 - val_recall: 0.7930\n",
      "Epoch 42/100\n",
      "2/2 [==============================] - 0s 33ms/step - loss: 0.6281 - recall: 0.7683 - val_loss: 0.6382 - val_recall: 0.8018\n",
      "Epoch 43/100\n",
      "2/2 [==============================] - 0s 31ms/step - loss: 0.6249 - recall: 0.7746 - val_loss: 0.6354 - val_recall: 0.8047\n",
      "Epoch 44/100\n",
      "2/2 [==============================] - 0s 40ms/step - loss: 0.6217 - recall: 0.7783 - val_loss: 0.6327 - val_recall: 0.8091\n",
      "Epoch 45/100\n",
      "2/2 [==============================] - 0s 34ms/step - loss: 0.6186 - recall: 0.7840 - val_loss: 0.6300 - val_recall: 0.8106\n",
      "Epoch 46/100\n",
      "2/2 [==============================] - 0s 31ms/step - loss: 0.6156 - recall: 0.7872 - val_loss: 0.6273 - val_recall: 0.8135\n",
      "Epoch 47/100\n",
      "2/2 [==============================] - 0s 44ms/step - loss: 0.6125 - recall: 0.7985 - val_loss: 0.6247 - val_recall: 0.8209\n",
      "Epoch 48/100\n",
      "2/2 [==============================] - 0s 34ms/step - loss: 0.6096 - recall: 0.8048 - val_loss: 0.6221 - val_recall: 0.8311\n",
      "Epoch 49/100\n",
      "2/2 [==============================] - 0s 38ms/step - loss: 0.6066 - recall: 0.8111 - val_loss: 0.6195 - val_recall: 0.8326\n",
      "Epoch 50/100\n",
      "2/2 [==============================] - 0s 35ms/step - loss: 0.6037 - recall: 0.8149 - val_loss: 0.6170 - val_recall: 0.8399\n",
      "Epoch 51/100\n",
      "2/2 [==============================] - 0s 34ms/step - loss: 0.6009 - recall: 0.8212 - val_loss: 0.6146 - val_recall: 0.8458\n",
      "Epoch 52/100\n",
      "2/2 [==============================] - 0s 31ms/step - loss: 0.5981 - recall: 0.8249 - val_loss: 0.6122 - val_recall: 0.8473\n",
      "Epoch 53/100\n",
      "2/2 [==============================] - 0s 35ms/step - loss: 0.5953 - recall: 0.8275 - val_loss: 0.6099 - val_recall: 0.8473\n",
      "Epoch 54/100\n",
      "2/2 [==============================] - 0s 36ms/step - loss: 0.5926 - recall: 0.8306 - val_loss: 0.6075 - val_recall: 0.8488\n",
      "Epoch 55/100\n",
      "2/2 [==============================] - 0s 31ms/step - loss: 0.5901 - recall: 0.8350 - val_loss: 0.6053 - val_recall: 0.8473\n",
      "Epoch 56/100\n",
      "2/2 [==============================] - 0s 38ms/step - loss: 0.5874 - recall: 0.8375 - val_loss: 0.6030 - val_recall: 0.8502\n",
      "Epoch 57/100\n",
      "2/2 [==============================] - 0s 44ms/step - loss: 0.5849 - recall: 0.8407 - val_loss: 0.6008 - val_recall: 0.8502\n",
      "Epoch 58/100\n",
      "2/2 [==============================] - 0s 32ms/step - loss: 0.5824 - recall: 0.8457 - val_loss: 0.5987 - val_recall: 0.8546\n",
      "Epoch 59/100\n",
      "2/2 [==============================] - 0s 36ms/step - loss: 0.5799 - recall: 0.8470 - val_loss: 0.5966 - val_recall: 0.8590\n",
      "Epoch 60/100\n",
      "2/2 [==============================] - 0s 31ms/step - loss: 0.5775 - recall: 0.8476 - val_loss: 0.5945 - val_recall: 0.8590\n",
      "Epoch 61/100\n",
      "2/2 [==============================] - 0s 35ms/step - loss: 0.5750 - recall: 0.8495 - val_loss: 0.5924 - val_recall: 0.8590\n",
      "Epoch 62/100\n",
      "2/2 [==============================] - 0s 36ms/step - loss: 0.5727 - recall: 0.8533 - val_loss: 0.5904 - val_recall: 0.8620\n",
      "Epoch 63/100\n",
      "2/2 [==============================] - 0s 48ms/step - loss: 0.5704 - recall: 0.8583 - val_loss: 0.5885 - val_recall: 0.8620\n",
      "Epoch 64/100\n",
      "2/2 [==============================] - 0s 34ms/step - loss: 0.5682 - recall: 0.8564 - val_loss: 0.5865 - val_recall: 0.8605\n",
      "Epoch 65/100\n",
      "2/2 [==============================] - 0s 31ms/step - loss: 0.5659 - recall: 0.8571 - val_loss: 0.5847 - val_recall: 0.8620\n",
      "Epoch 66/100\n",
      "2/2 [==============================] - 0s 37ms/step - loss: 0.5638 - recall: 0.8589 - val_loss: 0.5829 - val_recall: 0.8620\n",
      "Epoch 67/100\n",
      "2/2 [==============================] - 0s 36ms/step - loss: 0.5616 - recall: 0.8583 - val_loss: 0.5811 - val_recall: 0.8634\n",
      "Epoch 68/100\n",
      "2/2 [==============================] - 0s 32ms/step - loss: 0.5596 - recall: 0.8602 - val_loss: 0.5793 - val_recall: 0.8634\n",
      "Epoch 69/100\n",
      "2/2 [==============================] - 0s 34ms/step - loss: 0.5576 - recall: 0.8652 - val_loss: 0.5777 - val_recall: 0.8620\n",
      "Epoch 70/100\n",
      "2/2 [==============================] - 0s 32ms/step - loss: 0.5556 - recall: 0.8665 - val_loss: 0.5760 - val_recall: 0.8664\n",
      "Epoch 71/100\n",
      "2/2 [==============================] - 0s 31ms/step - loss: 0.5537 - recall: 0.8678 - val_loss: 0.5744 - val_recall: 0.8693\n",
      "Epoch 72/100\n",
      "2/2 [==============================] - 0s 41ms/step - loss: 0.5518 - recall: 0.8715 - val_loss: 0.5729 - val_recall: 0.8737\n",
      "Epoch 73/100\n",
      "2/2 [==============================] - 0s 32ms/step - loss: 0.5499 - recall: 0.8728 - val_loss: 0.5714 - val_recall: 0.8767\n",
      "Epoch 74/100\n",
      "2/2 [==============================] - 0s 34ms/step - loss: 0.5482 - recall: 0.8734 - val_loss: 0.5699 - val_recall: 0.8767\n",
      "Epoch 75/100\n",
      "2/2 [==============================] - 0s 31ms/step - loss: 0.5464 - recall: 0.8703 - val_loss: 0.5684 - val_recall: 0.8796\n",
      "Epoch 76/100\n",
      "2/2 [==============================] - 0s 32ms/step - loss: 0.5446 - recall: 0.8715 - val_loss: 0.5670 - val_recall: 0.8781\n",
      "Epoch 77/100\n",
      "2/2 [==============================] - 0s 33ms/step - loss: 0.5430 - recall: 0.8728 - val_loss: 0.5657 - val_recall: 0.8840\n",
      "Epoch 78/100\n",
      "2/2 [==============================] - 0s 34ms/step - loss: 0.5414 - recall: 0.8728 - val_loss: 0.5644 - val_recall: 0.8840\n",
      "Epoch 79/100\n",
      "2/2 [==============================] - 0s 34ms/step - loss: 0.5398 - recall: 0.8734 - val_loss: 0.5631 - val_recall: 0.8855\n",
      "Epoch 80/100\n",
      "2/2 [==============================] - 0s 35ms/step - loss: 0.5382 - recall: 0.8747 - val_loss: 0.5618 - val_recall: 0.8869\n",
      "Epoch 81/100\n",
      "2/2 [==============================] - 0s 54ms/step - loss: 0.5367 - recall: 0.8753 - val_loss: 0.5606 - val_recall: 0.8869\n",
      "Epoch 82/100\n",
      "2/2 [==============================] - 0s 45ms/step - loss: 0.5352 - recall: 0.8766 - val_loss: 0.5594 - val_recall: 0.8855\n",
      "Epoch 83/100\n",
      "2/2 [==============================] - 0s 32ms/step - loss: 0.5338 - recall: 0.8772 - val_loss: 0.5583 - val_recall: 0.8855\n",
      "Epoch 84/100\n",
      "2/2 [==============================] - 0s 39ms/step - loss: 0.5324 - recall: 0.8772 - val_loss: 0.5572 - val_recall: 0.8855\n",
      "Epoch 85/100\n",
      "2/2 [==============================] - 0s 32ms/step - loss: 0.5311 - recall: 0.8785 - val_loss: 0.5561 - val_recall: 0.8855\n",
      "Epoch 86/100\n",
      "2/2 [==============================] - 0s 37ms/step - loss: 0.5298 - recall: 0.8804 - val_loss: 0.5550 - val_recall: 0.8840\n",
      "Epoch 87/100\n",
      "2/2 [==============================] - 0s 34ms/step - loss: 0.5284 - recall: 0.8816 - val_loss: 0.5540 - val_recall: 0.8840\n",
      "Epoch 88/100\n",
      "2/2 [==============================] - 0s 31ms/step - loss: 0.5272 - recall: 0.8822 - val_loss: 0.5530 - val_recall: 0.8855\n",
      "Epoch 89/100\n",
      "2/2 [==============================] - 0s 32ms/step - loss: 0.5260 - recall: 0.8829 - val_loss: 0.5521 - val_recall: 0.8855\n",
      "Epoch 90/100\n",
      "2/2 [==============================] - 0s 34ms/step - loss: 0.5249 - recall: 0.8854 - val_loss: 0.5512 - val_recall: 0.8855\n",
      "Epoch 91/100\n",
      "2/2 [==============================] - 0s 30ms/step - loss: 0.5237 - recall: 0.8866 - val_loss: 0.5503 - val_recall: 0.8869\n",
      "Epoch 92/100\n",
      "2/2 [==============================] - 0s 31ms/step - loss: 0.5226 - recall: 0.8873 - val_loss: 0.5494 - val_recall: 0.8869\n",
      "Epoch 93/100\n",
      "2/2 [==============================] - 0s 34ms/step - loss: 0.5216 - recall: 0.8866 - val_loss: 0.5486 - val_recall: 0.8869\n",
      "Epoch 94/100\n",
      "2/2 [==============================] - 0s 34ms/step - loss: 0.5205 - recall: 0.8848 - val_loss: 0.5478 - val_recall: 0.8869\n",
      "Epoch 95/100\n",
      "2/2 [==============================] - 0s 38ms/step - loss: 0.5195 - recall: 0.8848 - val_loss: 0.5470 - val_recall: 0.8869\n",
      "Epoch 96/100\n",
      "2/2 [==============================] - 0s 33ms/step - loss: 0.5184 - recall: 0.8841 - val_loss: 0.5462 - val_recall: 0.8869\n",
      "Epoch 97/100\n",
      "2/2 [==============================] - 0s 32ms/step - loss: 0.5175 - recall: 0.8841 - val_loss: 0.5455 - val_recall: 0.8869\n",
      "Epoch 98/100\n",
      "2/2 [==============================] - 0s 31ms/step - loss: 0.5166 - recall: 0.8835 - val_loss: 0.5448 - val_recall: 0.8899\n",
      "Epoch 99/100\n",
      "2/2 [==============================] - 0s 34ms/step - loss: 0.5156 - recall: 0.8854 - val_loss: 0.5441 - val_recall: 0.8899\n",
      "Epoch 100/100\n",
      "2/2 [==============================] - 0s 33ms/step - loss: 0.5147 - recall: 0.8848 - val_loss: 0.5434 - val_recall: 0.8869\n"
     ]
    }
   ],
   "source": [
    "model.compile(loss='binary_crossentropy', optimizer='adam', metrics='Recall')\n",
    "\n",
    "history = model.fit(x_train_norm, y_train, epochs=100,\n",
    "                    batch_size=1200, validation_data=(x_val_norm, y_val))"
   ]
  },
  {
   "cell_type": "code",
   "execution_count": 39,
   "metadata": {},
   "outputs": [
    {
     "data": {
      "text/plain": [
       "<matplotlib.legend.Legend at 0x23ad8eed210>"
      ]
     },
     "execution_count": 39,
     "metadata": {},
     "output_type": "execute_result"
    },
    {
     "data": {
      "image/png": "[encoded data removed]",
      "text/plain": [
       "<Figure size 640x480 with 1 Axes>"
      ]
     },
     "metadata": {},
     "output_type": "display_data"
    }
   ],
   "source": [
    "plt.plot(range(1, 101), history.history['recall'], label=\"Treinamento\")\n",
    "plt.plot(range(1, 101), history.history['val_recall'], label=\"Validacao\")\n",
    "plt.legend(loc='best')"
   ]
  },
  {
   "cell_type": "code",
   "execution_count": 40,
   "metadata": {},
   "outputs": [
    {
     "data": {
      "text/plain": [
       "<matplotlib.legend.Legend at 0x23ad8c8c8b0>"
      ]
     },
     "execution_count": 40,
     "metadata": {},
     "output_type": "execute_result"
    },
    {
     "data": {
      "image/png": "[encoded data removed]",
      "text/plain": [
       "<Figure size 640x480 with 1 Axes>"
      ]
     },
     "metadata": {},
     "output_type": "display_data"
    }
   ],
   "source": [
    "plt.plot(range(1, 101), history.history['loss'], label=\"Treinamento\")\n",
    "plt.plot(range(1, 101), history.history['val_loss'], label=\"Validacao\")\n",
    "plt.legend(loc='best')"
   ]
  },
  {
   "cell_type": "code",
   "execution_count": 41,
   "metadata": {},
   "outputs": [
    {
     "name": "stdout",
     "output_type": "stream",
     "text": [
      "46/46 [==============================] - 0s 1ms/step\n",
      "              precision    recall  f1-score   support\n",
      "\n",
      "           0       0.66      0.48      0.55       484\n",
      "           1       0.77      0.88      0.82       973\n",
      "\n",
      "    accuracy                           0.75      1457\n",
      "   macro avg       0.72      0.68      0.69      1457\n",
      "weighted avg       0.74      0.75      0.73      1457\n",
      "\n"
     ]
    }
   ],
   "source": [
    "yhat_test = model.predict(x_test_norm)\n",
    "yhat_test_class = [1 if x > 0.5 else 0 for x in yhat_test]\n",
    "print(classification_report(y_test, yhat_test_class))"
   ]
  },
  {
   "cell_type": "code",
   "execution_count": 43,
   "metadata": {},
   "outputs": [
    {
     "name": "stdout",
     "output_type": "stream",
     "text": [
      "75/75 [==============================] - 0s 940us/step\n",
      "46/46 [==============================] - 0s 981us/step\n"
     ]
    }
   ],
   "source": [
    "yhat_hist_train = model.predict(x_train_norm)\n",
    "yhat_hist_test = model.predict(x_test_norm)"
   ]
  },
  {
   "cell_type": "code",
   "execution_count": 44,
   "metadata": {},
   "outputs": [
    {
     "data": {
      "image/png": "[encoded data removed]",
      "text/plain": [
       "<Figure size 640x480 with 1 Axes>"
      ]
     },
     "metadata": {},
     "output_type": "display_data"
    }
   ],
   "source": [
    "conf = confusion_matrix(y_test, yhat_test_class)\n",
    "import seaborn as sns\n",
    "sns.heatmap(conf, annot=True, fmt=\"d\", cmap=\"Blues\", cbar=False,\n",
    "            xticklabels=['Predito Negativo', 'Predito Positivo'],\n",
    "            yticklabels=['Real Negativo', 'Real Positivo'])\n",
    "\n",
    "plt.xlabel(\"Previsões\")\n",
    "plt.ylabel(\"Valores Reais\")\n",
    "plt.title(\"Matriz de Confusão\")\n",
    "plt.show()"
   ]
  },
  {
   "cell_type": "code",
   "execution_count": 47,
   "metadata": {},
   "outputs": [
    {
     "data": {
      "image/png": "[encoded data removed]",
      "text/plain": [
       "<Figure size 800x600 with 1 Axes>"
      ]
     },
     "metadata": {},
     "output_type": "display_data"
    }
   ],
   "source": [
    "plt.figure(figsize=(8,6))\n",
    "plt.title('Validação')\n",
    "plt.hist(yhat_hist_train, label='treino')\n",
    "plt.hist(yhat_hist_test, color='green', label='teste')\n",
    "plt.legend()\n",
    "plt.show()"
   ]
  }
 ],
 "metadata": {
  "kernelspec": {
   "display_name": "Python 3",
   "language": "python",
   "name": "python3"
  },
  "language_info": {
   "codemirror_mode": {
    "name": "ipython",
    "version": 3
   },
   "file_extension": ".py",
   "mimetype": "text/x-python",
   "name": "python",
   "nbconvert_exporter": "python",
   "pygments_lexer": "ipython3",
   "version": "3.10.7"
  }
 },
 "nbformat": 4,
 "nbformat_minor": 2
}
