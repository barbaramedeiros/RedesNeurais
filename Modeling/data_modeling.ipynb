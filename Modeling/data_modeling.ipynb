{
 "cells": [
  {
   "cell_type": "code",
   "execution_count": 1,
   "metadata": {},
   "outputs": [
    {
     "name": "stdout",
     "output_type": "stream",
     "text": [
      "WARNING:tensorflow:From c:\\Users\\Barbara\\AppData\\Local\\Programs\\Python\\Python310\\lib\\site-packages\\keras\\src\\losses.py:2976: The name tf.losses.sparse_softmax_cross_entropy is deprecated. Please use tf.compat.v1.losses.sparse_softmax_cross_entropy instead.\n",
      "\n"
     ]
    }
   ],
   "source": [
    "import numpy as np\n",
    "import pandas as pd\n",
    "import random\n",
    "import matplotlib.pyplot as plt\n",
    "from tensorflow.keras.layers import Dense\n",
    "from tensorflow.keras.models import Sequential\n",
    "from sklearn.preprocessing import StandardScaler\n",
    "from sklearn.model_selection import train_test_split"
   ]
  },
  {
   "cell_type": "code",
   "execution_count": 2,
   "metadata": {},
   "outputs": [
    {
     "data": {
      "text/html": [
       "<div>\n",
       "<style scoped>\n",
       "    .dataframe tbody tr th:only-of-type {\n",
       "        vertical-align: middle;\n",
       "    }\n",
       "\n",
       "    .dataframe tbody tr th {\n",
       "        vertical-align: top;\n",
       "    }\n",
       "\n",
       "    .dataframe thead th {\n",
       "        text-align: right;\n",
       "    }\n",
       "</style>\n",
       "<table border=\"1\" class=\"dataframe\">\n",
       "  <thead>\n",
       "    <tr style=\"text-align: right;\">\n",
       "      <th></th>\n",
       "      <th>type</th>\n",
       "      <th>fixed_acidity</th>\n",
       "      <th>volatile_acidity</th>\n",
       "      <th>citric_acid</th>\n",
       "      <th>residual_sugar</th>\n",
       "      <th>chlorides</th>\n",
       "      <th>free_sulfur_dioxide</th>\n",
       "      <th>total_sulfur_dioxide</th>\n",
       "      <th>density</th>\n",
       "      <th>pH</th>\n",
       "      <th>sulphates</th>\n",
       "      <th>alcohol</th>\n",
       "      <th>opinion</th>\n",
       "    </tr>\n",
       "  </thead>\n",
       "  <tbody>\n",
       "    <tr>\n",
       "      <th>0</th>\n",
       "      <td>1</td>\n",
       "      <td>7.0</td>\n",
       "      <td>0.27</td>\n",
       "      <td>0.36</td>\n",
       "      <td>4.549725</td>\n",
       "      <td>0.212132</td>\n",
       "      <td>3.806662</td>\n",
       "      <td>5.135798</td>\n",
       "      <td>1.0010</td>\n",
       "      <td>3.00</td>\n",
       "      <td>0.45</td>\n",
       "      <td>8.8</td>\n",
       "      <td>1</td>\n",
       "    </tr>\n",
       "    <tr>\n",
       "      <th>1</th>\n",
       "      <td>1</td>\n",
       "      <td>6.3</td>\n",
       "      <td>0.30</td>\n",
       "      <td>0.34</td>\n",
       "      <td>1.264911</td>\n",
       "      <td>0.221359</td>\n",
       "      <td>2.639057</td>\n",
       "      <td>4.882802</td>\n",
       "      <td>0.9940</td>\n",
       "      <td>3.30</td>\n",
       "      <td>0.49</td>\n",
       "      <td>9.5</td>\n",
       "      <td>1</td>\n",
       "    </tr>\n",
       "    <tr>\n",
       "      <th>2</th>\n",
       "      <td>1</td>\n",
       "      <td>8.1</td>\n",
       "      <td>0.28</td>\n",
       "      <td>0.40</td>\n",
       "      <td>2.626785</td>\n",
       "      <td>0.223607</td>\n",
       "      <td>3.401197</td>\n",
       "      <td>4.574711</td>\n",
       "      <td>0.9951</td>\n",
       "      <td>3.26</td>\n",
       "      <td>0.44</td>\n",
       "      <td>10.1</td>\n",
       "      <td>1</td>\n",
       "    </tr>\n",
       "    <tr>\n",
       "      <th>3</th>\n",
       "      <td>1</td>\n",
       "      <td>7.2</td>\n",
       "      <td>0.23</td>\n",
       "      <td>0.32</td>\n",
       "      <td>2.915476</td>\n",
       "      <td>0.240832</td>\n",
       "      <td>3.850148</td>\n",
       "      <td>5.225747</td>\n",
       "      <td>0.9956</td>\n",
       "      <td>3.19</td>\n",
       "      <td>0.40</td>\n",
       "      <td>9.9</td>\n",
       "      <td>1</td>\n",
       "    </tr>\n",
       "    <tr>\n",
       "      <th>4</th>\n",
       "      <td>1</td>\n",
       "      <td>7.2</td>\n",
       "      <td>0.23</td>\n",
       "      <td>0.32</td>\n",
       "      <td>2.915476</td>\n",
       "      <td>0.240832</td>\n",
       "      <td>3.850148</td>\n",
       "      <td>5.225747</td>\n",
       "      <td>0.9956</td>\n",
       "      <td>3.19</td>\n",
       "      <td>0.40</td>\n",
       "      <td>9.9</td>\n",
       "      <td>1</td>\n",
       "    </tr>\n",
       "  </tbody>\n",
       "</table>\n",
       "</div>"
      ],
      "text/plain": [
       "   type  fixed_acidity  volatile_acidity  citric_acid  residual_sugar  \\\n",
       "0     1            7.0              0.27         0.36        4.549725   \n",
       "1     1            6.3              0.30         0.34        1.264911   \n",
       "2     1            8.1              0.28         0.40        2.626785   \n",
       "3     1            7.2              0.23         0.32        2.915476   \n",
       "4     1            7.2              0.23         0.32        2.915476   \n",
       "\n",
       "   chlorides  free_sulfur_dioxide  total_sulfur_dioxide  density    pH  \\\n",
       "0   0.212132             3.806662              5.135798   1.0010  3.00   \n",
       "1   0.221359             2.639057              4.882802   0.9940  3.30   \n",
       "2   0.223607             3.401197              4.574711   0.9951  3.26   \n",
       "3   0.240832             3.850148              5.225747   0.9956  3.19   \n",
       "4   0.240832             3.850148              5.225747   0.9956  3.19   \n",
       "\n",
       "   sulphates  alcohol  opinion  \n",
       "0       0.45      8.8        1  \n",
       "1       0.49      9.5        1  \n",
       "2       0.44     10.1        1  \n",
       "3       0.40      9.9        1  \n",
       "4       0.40      9.9        1  "
      ]
     },
     "execution_count": 2,
     "metadata": {},
     "output_type": "execute_result"
    }
   ],
   "source": [
    "data = pd.read_csv(\n",
    "    r'C:\\Users\\Barbara\\Desktop\\Estudos\\Infnet\\Data_Science\\7-Redes_Neurais\\Projeto\\Data_Preparation\\data\\processed\\branco.csv')\n",
    "data.head()"
   ]
  },
  {
   "cell_type": "code",
   "execution_count": 3,
   "metadata": {},
   "outputs": [],
   "source": [
    "data.drop(columns=['type'], inplace=True)"
   ]
  },
  {
   "cell_type": "code",
   "execution_count": 4,
   "metadata": {},
   "outputs": [],
   "source": [
    "target = 'opinion'\n",
    "x = data.drop(columns=[target])\n",
    "y = data[[target]]"
   ]
  },
  {
   "cell_type": "code",
   "execution_count": 5,
   "metadata": {},
   "outputs": [],
   "source": [
    "x_train, x_test, y_train, y_test = train_test_split(\n",
    "    x, y, test_size=0.3, stratify=y)\n",
    "x_train, x_val, y_train, y_val = train_test_split(\n",
    "    x_train, y_train, test_size=0.3, stratify=y_train)"
   ]
  },
  {
   "cell_type": "code",
   "execution_count": 6,
   "metadata": {},
   "outputs": [
    {
     "data": {
      "text/html": [
       "<div>\n",
       "<style scoped>\n",
       "    .dataframe tbody tr th:only-of-type {\n",
       "        vertical-align: middle;\n",
       "    }\n",
       "\n",
       "    .dataframe tbody tr th {\n",
       "        vertical-align: top;\n",
       "    }\n",
       "\n",
       "    .dataframe thead th {\n",
       "        text-align: right;\n",
       "    }\n",
       "</style>\n",
       "<table border=\"1\" class=\"dataframe\">\n",
       "  <thead>\n",
       "    <tr style=\"text-align: right;\">\n",
       "      <th></th>\n",
       "      <th>original</th>\n",
       "      <th>treino</th>\n",
       "      <th>val</th>\n",
       "      <th>teste</th>\n",
       "    </tr>\n",
       "    <tr>\n",
       "      <th>opinion</th>\n",
       "      <th></th>\n",
       "      <th></th>\n",
       "      <th></th>\n",
       "      <th></th>\n",
       "    </tr>\n",
       "  </thead>\n",
       "  <tbody>\n",
       "    <tr>\n",
       "      <th>1</th>\n",
       "      <td>0.667765</td>\n",
       "      <td>0.667788</td>\n",
       "      <td>0.667647</td>\n",
       "      <td>0.667811</td>\n",
       "    </tr>\n",
       "    <tr>\n",
       "      <th>0</th>\n",
       "      <td>0.332235</td>\n",
       "      <td>0.332212</td>\n",
       "      <td>0.332353</td>\n",
       "      <td>0.332189</td>\n",
       "    </tr>\n",
       "  </tbody>\n",
       "</table>\n",
       "</div>"
      ],
      "text/plain": [
       "         original    treino       val     teste\n",
       "opinion                                        \n",
       "1        0.667765  0.667788  0.667647  0.667811\n",
       "0        0.332235  0.332212  0.332353  0.332189"
      ]
     },
     "execution_count": 6,
     "metadata": {},
     "output_type": "execute_result"
    }
   ],
   "source": [
    "props = pd.DataFrame(data[target].value_counts(normalize=True).values,\n",
    "                     index=data[target].value_counts(normalize=True).index,\n",
    "                     columns=['original'])\n",
    "props['treino'] = y_train[target].value_counts(normalize=True).values\n",
    "props['val'] = y_val[target].value_counts(normalize=True).values\n",
    "props['teste'] = y_test[target].value_counts(normalize=True).values\n",
    "props"
   ]
  },
  {
   "cell_type": "code",
   "execution_count": 7,
   "metadata": {},
   "outputs": [],
   "source": [
    "scaler = StandardScaler()\n",
    "scaler.fit(x_train)\n",
    "x_train_norm = scaler.transform(x_train)\n",
    "x_val_norm = scaler.transform(x_val)\n",
    "x_test_norm = scaler.transform(x_test)"
   ]
  },
  {
   "cell_type": "code",
   "execution_count": 34,
   "metadata": {},
   "outputs": [],
   "source": [
    "random.seed()\n",
    "\n",
    "def create_ann_model(x, n_neurons: list):\n",
    "  model = Sequential()\n",
    "  if len(n_neurons) == 1:\n",
    "    model.add(Dense(n_neurons[0], input_shape=(11,), activation='relu')) \n",
    "\n",
    "  model.add(Dense(1, activation='sigmoid')) \n",
    "\n",
    "  return model"
   ]
  },
  {
   "cell_type": "code",
   "execution_count": 32,
   "metadata": {},
   "outputs": [
    {
     "name": "stdout",
     "output_type": "stream",
     "text": [
      "1\n",
      "Model: \"sequential_9\"\n",
      "_________________________________________________________________\n",
      " Layer (type)                Output Shape              Param #   \n",
      "=================================================================\n",
      " dense_18 (Dense)            (None, 11)                132       \n",
      "                                                                 \n",
      " dense_19 (Dense)            (None, 1)                 12        \n",
      "                                                                 \n",
      "=================================================================\n",
      "Total params: 144 (576.00 Byte)\n",
      "Trainable params: 144 (576.00 Byte)\n",
      "Non-trainable params: 0 (0.00 Byte)\n",
      "_________________________________________________________________\n"
     ]
    }
   ],
   "source": [
    "model = create_ann_model(x_train_norm, n_neurons=[11])\n",
    "model.summary()"
   ]
  },
  {
   "cell_type": "code",
   "execution_count": 35,
   "metadata": {},
   "outputs": [
    {
     "name": "stdout",
     "output_type": "stream",
     "text": [
      "Epoch 1/100\n",
      "2/2 [==============================] - 1s 192ms/step - loss: 1.0653 - recall: 0.1492 - val_loss: 1.0514 - val_recall: 0.1307\n",
      "Epoch 2/100\n",
      "2/2 [==============================] - 0s 38ms/step - loss: 1.0499 - recall: 0.1524 - val_loss: 1.0369 - val_recall: 0.1336\n",
      "Epoch 3/100\n",
      "2/2 [==============================] - 0s 36ms/step - loss: 1.0348 - recall: 0.1581 - val_loss: 1.0226 - val_recall: 0.1351\n",
      "Epoch 4/100\n",
      "2/2 [==============================] - 0s 44ms/step - loss: 1.0199 - recall: 0.1606 - val_loss: 1.0084 - val_recall: 0.1366\n",
      "Epoch 5/100\n",
      "2/2 [==============================] - 0s 36ms/step - loss: 1.0052 - recall: 0.1631 - val_loss: 0.9945 - val_recall: 0.1468\n",
      "Epoch 6/100\n",
      "2/2 [==============================] - 0s 50ms/step - loss: 0.9908 - recall: 0.1656 - val_loss: 0.9809 - val_recall: 0.1483\n",
      "Epoch 7/100\n",
      "2/2 [==============================] - 0s 37ms/step - loss: 0.9763 - recall: 0.1725 - val_loss: 0.9675 - val_recall: 0.1586\n",
      "Epoch 8/100\n",
      "2/2 [==============================] - 0s 33ms/step - loss: 0.9624 - recall: 0.1782 - val_loss: 0.9544 - val_recall: 0.1689\n",
      "Epoch 9/100\n",
      "2/2 [==============================] - 0s 34ms/step - loss: 0.9489 - recall: 0.1877 - val_loss: 0.9414 - val_recall: 0.1718\n",
      "Epoch 10/100\n",
      "2/2 [==============================] - 0s 48ms/step - loss: 0.9351 - recall: 0.1914 - val_loss: 0.9288 - val_recall: 0.1821\n",
      "Epoch 11/100\n",
      "2/2 [==============================] - 0s 49ms/step - loss: 0.9222 - recall: 0.1933 - val_loss: 0.9164 - val_recall: 0.1821\n",
      "Epoch 12/100\n",
      "2/2 [==============================] - 0s 36ms/step - loss: 0.9092 - recall: 0.1971 - val_loss: 0.9043 - val_recall: 0.1821\n",
      "Epoch 13/100\n",
      "2/2 [==============================] - 0s 43ms/step - loss: 0.8967 - recall: 0.2028 - val_loss: 0.8924 - val_recall: 0.1850\n",
      "Epoch 14/100\n",
      "2/2 [==============================] - 0s 32ms/step - loss: 0.8844 - recall: 0.2065 - val_loss: 0.8808 - val_recall: 0.1924\n",
      "Epoch 15/100\n",
      "2/2 [==============================] - 0s 33ms/step - loss: 0.8722 - recall: 0.2160 - val_loss: 0.8695 - val_recall: 0.1968\n",
      "Epoch 16/100\n",
      "2/2 [==============================] - 0s 32ms/step - loss: 0.8606 - recall: 0.2229 - val_loss: 0.8585 - val_recall: 0.2056\n",
      "Epoch 17/100\n",
      "2/2 [==============================] - 0s 33ms/step - loss: 0.8492 - recall: 0.2361 - val_loss: 0.8478 - val_recall: 0.2144\n",
      "Epoch 18/100\n",
      "2/2 [==============================] - 0s 33ms/step - loss: 0.8382 - recall: 0.2456 - val_loss: 0.8374 - val_recall: 0.2276\n",
      "Epoch 19/100\n",
      "2/2 [==============================] - 0s 34ms/step - loss: 0.8272 - recall: 0.2531 - val_loss: 0.8273 - val_recall: 0.2438\n",
      "Epoch 20/100\n",
      "2/2 [==============================] - 0s 40ms/step - loss: 0.8170 - recall: 0.2645 - val_loss: 0.8175 - val_recall: 0.2511\n",
      "Epoch 21/100\n",
      "2/2 [==============================] - 0s 34ms/step - loss: 0.8069 - recall: 0.2733 - val_loss: 0.8079 - val_recall: 0.2555\n",
      "Epoch 22/100\n",
      "2/2 [==============================] - 0s 47ms/step - loss: 0.7969 - recall: 0.2790 - val_loss: 0.7987 - val_recall: 0.2628\n",
      "Epoch 23/100\n",
      "2/2 [==============================] - 0s 36ms/step - loss: 0.7875 - recall: 0.2903 - val_loss: 0.7897 - val_recall: 0.2731\n",
      "Epoch 24/100\n",
      "2/2 [==============================] - 0s 37ms/step - loss: 0.7783 - recall: 0.3023 - val_loss: 0.7810 - val_recall: 0.2805\n",
      "Epoch 25/100\n",
      "2/2 [==============================] - 0s 36ms/step - loss: 0.7693 - recall: 0.3136 - val_loss: 0.7726 - val_recall: 0.3040\n",
      "Epoch 26/100\n",
      "2/2 [==============================] - 0s 36ms/step - loss: 0.7605 - recall: 0.3338 - val_loss: 0.7644 - val_recall: 0.3201\n",
      "Epoch 27/100\n",
      "2/2 [==============================] - 0s 42ms/step - loss: 0.7524 - recall: 0.3508 - val_loss: 0.7566 - val_recall: 0.3392\n",
      "Epoch 28/100\n",
      "2/2 [==============================] - 0s 33ms/step - loss: 0.7443 - recall: 0.3759 - val_loss: 0.7490 - val_recall: 0.3554\n",
      "Epoch 29/100\n",
      "2/2 [==============================] - 0s 32ms/step - loss: 0.7364 - recall: 0.3923 - val_loss: 0.7417 - val_recall: 0.3686\n",
      "Epoch 30/100\n",
      "2/2 [==============================] - 0s 49ms/step - loss: 0.7291 - recall: 0.4049 - val_loss: 0.7346 - val_recall: 0.3906\n",
      "Epoch 31/100\n",
      "2/2 [==============================] - 0s 35ms/step - loss: 0.7221 - recall: 0.4251 - val_loss: 0.7278 - val_recall: 0.4126\n",
      "Epoch 32/100\n",
      "2/2 [==============================] - 0s 36ms/step - loss: 0.7149 - recall: 0.4452 - val_loss: 0.7213 - val_recall: 0.4214\n",
      "Epoch 33/100\n",
      "2/2 [==============================] - 0s 32ms/step - loss: 0.7084 - recall: 0.4584 - val_loss: 0.7150 - val_recall: 0.4347\n",
      "Epoch 34/100\n",
      "2/2 [==============================] - 0s 36ms/step - loss: 0.7020 - recall: 0.4761 - val_loss: 0.7089 - val_recall: 0.4493\n",
      "Epoch 35/100\n",
      "2/2 [==============================] - 0s 35ms/step - loss: 0.6957 - recall: 0.4880 - val_loss: 0.7031 - val_recall: 0.4537\n",
      "Epoch 36/100\n",
      "2/2 [==============================] - 0s 46ms/step - loss: 0.6900 - recall: 0.5019 - val_loss: 0.6974 - val_recall: 0.4758\n",
      "Epoch 37/100\n",
      "2/2 [==============================] - 0s 39ms/step - loss: 0.6842 - recall: 0.5164 - val_loss: 0.6920 - val_recall: 0.4831\n",
      "Epoch 38/100\n",
      "2/2 [==============================] - 0s 33ms/step - loss: 0.6788 - recall: 0.5315 - val_loss: 0.6868 - val_recall: 0.4993\n",
      "Epoch 39/100\n",
      "2/2 [==============================] - 0s 33ms/step - loss: 0.6736 - recall: 0.5453 - val_loss: 0.6818 - val_recall: 0.5154\n",
      "Epoch 40/100\n",
      "2/2 [==============================] - 0s 35ms/step - loss: 0.6685 - recall: 0.5535 - val_loss: 0.6770 - val_recall: 0.5228\n",
      "Epoch 41/100\n",
      "2/2 [==============================] - 0s 31ms/step - loss: 0.6638 - recall: 0.5636 - val_loss: 0.6723 - val_recall: 0.5345\n",
      "Epoch 42/100\n",
      "2/2 [==============================] - 0s 37ms/step - loss: 0.6590 - recall: 0.5743 - val_loss: 0.6679 - val_recall: 0.5463\n",
      "Epoch 43/100\n",
      "2/2 [==============================] - 0s 35ms/step - loss: 0.6547 - recall: 0.5863 - val_loss: 0.6635 - val_recall: 0.5565\n",
      "Epoch 44/100\n",
      "2/2 [==============================] - 0s 31ms/step - loss: 0.6505 - recall: 0.5976 - val_loss: 0.6594 - val_recall: 0.5698\n",
      "Epoch 45/100\n",
      "2/2 [==============================] - 0s 33ms/step - loss: 0.6464 - recall: 0.6052 - val_loss: 0.6554 - val_recall: 0.5771\n",
      "Epoch 46/100\n",
      "2/2 [==============================] - 0s 38ms/step - loss: 0.6426 - recall: 0.6134 - val_loss: 0.6516 - val_recall: 0.5977\n",
      "Epoch 47/100\n",
      "2/2 [==============================] - 0s 36ms/step - loss: 0.6388 - recall: 0.6247 - val_loss: 0.6479 - val_recall: 0.6109\n",
      "Epoch 48/100\n",
      "2/2 [==============================] - 0s 33ms/step - loss: 0.6351 - recall: 0.6360 - val_loss: 0.6444 - val_recall: 0.6167\n",
      "Epoch 49/100\n",
      "2/2 [==============================] - 0s 42ms/step - loss: 0.6317 - recall: 0.6429 - val_loss: 0.6410 - val_recall: 0.6197\n",
      "Epoch 50/100\n",
      "2/2 [==============================] - 0s 37ms/step - loss: 0.6284 - recall: 0.6537 - val_loss: 0.6377 - val_recall: 0.6314\n",
      "Epoch 51/100\n",
      "2/2 [==============================] - 0s 34ms/step - loss: 0.6251 - recall: 0.6650 - val_loss: 0.6345 - val_recall: 0.6373\n",
      "Epoch 52/100\n",
      "2/2 [==============================] - 0s 32ms/step - loss: 0.6220 - recall: 0.6707 - val_loss: 0.6314 - val_recall: 0.6476\n",
      "Epoch 53/100\n",
      "2/2 [==============================] - 0s 32ms/step - loss: 0.6189 - recall: 0.6770 - val_loss: 0.6284 - val_recall: 0.6549\n",
      "Epoch 54/100\n",
      "2/2 [==============================] - 0s 37ms/step - loss: 0.6160 - recall: 0.6826 - val_loss: 0.6255 - val_recall: 0.6637\n",
      "Epoch 55/100\n",
      "2/2 [==============================] - 0s 33ms/step - loss: 0.6133 - recall: 0.6914 - val_loss: 0.6227 - val_recall: 0.6755\n",
      "Epoch 56/100\n",
      "2/2 [==============================] - 0s 33ms/step - loss: 0.6105 - recall: 0.6984 - val_loss: 0.6200 - val_recall: 0.6799\n",
      "Epoch 57/100\n",
      "2/2 [==============================] - 0s 36ms/step - loss: 0.6079 - recall: 0.7053 - val_loss: 0.6174 - val_recall: 0.6843\n",
      "Epoch 58/100\n",
      "2/2 [==============================] - 0s 34ms/step - loss: 0.6054 - recall: 0.7103 - val_loss: 0.6149 - val_recall: 0.6887\n",
      "Epoch 59/100\n",
      "2/2 [==============================] - 0s 39ms/step - loss: 0.6029 - recall: 0.7135 - val_loss: 0.6124 - val_recall: 0.6931\n",
      "Epoch 60/100\n",
      "2/2 [==============================] - 0s 32ms/step - loss: 0.6006 - recall: 0.7185 - val_loss: 0.6100 - val_recall: 0.6975\n",
      "Epoch 61/100\n",
      "2/2 [==============================] - 0s 35ms/step - loss: 0.5983 - recall: 0.7248 - val_loss: 0.6076 - val_recall: 0.7019\n",
      "Epoch 62/100\n",
      "2/2 [==============================] - 0s 33ms/step - loss: 0.5961 - recall: 0.7305 - val_loss: 0.6054 - val_recall: 0.7063\n",
      "Epoch 63/100\n",
      "2/2 [==============================] - 0s 36ms/step - loss: 0.5939 - recall: 0.7317 - val_loss: 0.6032 - val_recall: 0.7093\n",
      "Epoch 64/100\n",
      "2/2 [==============================] - 0s 34ms/step - loss: 0.5918 - recall: 0.7361 - val_loss: 0.6010 - val_recall: 0.7151\n",
      "Epoch 65/100\n",
      "2/2 [==============================] - 0s 48ms/step - loss: 0.5898 - recall: 0.7424 - val_loss: 0.5990 - val_recall: 0.7210\n",
      "Epoch 66/100\n",
      "2/2 [==============================] - 0s 35ms/step - loss: 0.5878 - recall: 0.7506 - val_loss: 0.5969 - val_recall: 0.7269\n",
      "Epoch 67/100\n",
      "2/2 [==============================] - 0s 33ms/step - loss: 0.5859 - recall: 0.7538 - val_loss: 0.5950 - val_recall: 0.7298\n",
      "Epoch 68/100\n",
      "2/2 [==============================] - 0s 33ms/step - loss: 0.5841 - recall: 0.7563 - val_loss: 0.5931 - val_recall: 0.7372\n",
      "Epoch 69/100\n",
      "2/2 [==============================] - 0s 37ms/step - loss: 0.5823 - recall: 0.7607 - val_loss: 0.5912 - val_recall: 0.7416\n",
      "Epoch 70/100\n",
      "2/2 [==============================] - 0s 44ms/step - loss: 0.5805 - recall: 0.7632 - val_loss: 0.5894 - val_recall: 0.7445\n",
      "Epoch 71/100\n",
      "2/2 [==============================] - 0s 32ms/step - loss: 0.5788 - recall: 0.7702 - val_loss: 0.5876 - val_recall: 0.7489\n",
      "Epoch 72/100\n",
      "2/2 [==============================] - 0s 41ms/step - loss: 0.5771 - recall: 0.7739 - val_loss: 0.5859 - val_recall: 0.7577\n",
      "Epoch 73/100\n",
      "2/2 [==============================] - 0s 33ms/step - loss: 0.5755 - recall: 0.7758 - val_loss: 0.5842 - val_recall: 0.7606\n",
      "Epoch 74/100\n",
      "2/2 [==============================] - 0s 35ms/step - loss: 0.5739 - recall: 0.7821 - val_loss: 0.5825 - val_recall: 0.7636\n",
      "Epoch 75/100\n",
      "2/2 [==============================] - 0s 48ms/step - loss: 0.5724 - recall: 0.7853 - val_loss: 0.5809 - val_recall: 0.7665\n",
      "Epoch 76/100\n",
      "2/2 [==============================] - 0s 31ms/step - loss: 0.5709 - recall: 0.7884 - val_loss: 0.5793 - val_recall: 0.7724\n",
      "Epoch 77/100\n",
      "2/2 [==============================] - 0s 32ms/step - loss: 0.5694 - recall: 0.7916 - val_loss: 0.5778 - val_recall: 0.7812\n",
      "Epoch 78/100\n",
      "2/2 [==============================] - 0s 35ms/step - loss: 0.5680 - recall: 0.7947 - val_loss: 0.5763 - val_recall: 0.7856\n",
      "Epoch 79/100\n",
      "2/2 [==============================] - 0s 36ms/step - loss: 0.5666 - recall: 0.7953 - val_loss: 0.5748 - val_recall: 0.7856\n",
      "Epoch 80/100\n",
      "2/2 [==============================] - 0s 40ms/step - loss: 0.5652 - recall: 0.7972 - val_loss: 0.5734 - val_recall: 0.7871\n",
      "Epoch 81/100\n",
      "2/2 [==============================] - 0s 32ms/step - loss: 0.5639 - recall: 0.8004 - val_loss: 0.5719 - val_recall: 0.7900\n",
      "Epoch 82/100\n",
      "2/2 [==============================] - 0s 57ms/step - loss: 0.5625 - recall: 0.8042 - val_loss: 0.5705 - val_recall: 0.7915\n",
      "Epoch 83/100\n",
      "2/2 [==============================] - 0s 32ms/step - loss: 0.5613 - recall: 0.8042 - val_loss: 0.5692 - val_recall: 0.7930\n",
      "Epoch 84/100\n",
      "2/2 [==============================] - 0s 32ms/step - loss: 0.5600 - recall: 0.8048 - val_loss: 0.5678 - val_recall: 0.7959\n",
      "Epoch 85/100\n",
      "2/2 [==============================] - 0s 32ms/step - loss: 0.5588 - recall: 0.8054 - val_loss: 0.5665 - val_recall: 0.7988\n",
      "Epoch 86/100\n",
      "2/2 [==============================] - 0s 33ms/step - loss: 0.5576 - recall: 0.8079 - val_loss: 0.5653 - val_recall: 0.8018\n",
      "Epoch 87/100\n",
      "2/2 [==============================] - 0s 32ms/step - loss: 0.5564 - recall: 0.8092 - val_loss: 0.5640 - val_recall: 0.8032\n",
      "Epoch 88/100\n",
      "2/2 [==============================] - 0s 34ms/step - loss: 0.5553 - recall: 0.8136 - val_loss: 0.5628 - val_recall: 0.8076\n",
      "Epoch 89/100\n",
      "2/2 [==============================] - 0s 33ms/step - loss: 0.5542 - recall: 0.8155 - val_loss: 0.5616 - val_recall: 0.8076\n",
      "Epoch 90/100\n",
      "2/2 [==============================] - 0s 34ms/step - loss: 0.5531 - recall: 0.8174 - val_loss: 0.5604 - val_recall: 0.8106\n",
      "Epoch 91/100\n",
      "2/2 [==============================] - 0s 33ms/step - loss: 0.5520 - recall: 0.8193 - val_loss: 0.5593 - val_recall: 0.8106\n",
      "Epoch 92/100\n",
      "2/2 [==============================] - 0s 35ms/step - loss: 0.5510 - recall: 0.8212 - val_loss: 0.5581 - val_recall: 0.8120\n",
      "Epoch 93/100\n",
      "2/2 [==============================] - 0s 34ms/step - loss: 0.5500 - recall: 0.8224 - val_loss: 0.5570 - val_recall: 0.8106\n",
      "Epoch 94/100\n",
      "2/2 [==============================] - 0s 32ms/step - loss: 0.5489 - recall: 0.8237 - val_loss: 0.5559 - val_recall: 0.8106\n",
      "Epoch 95/100\n",
      "2/2 [==============================] - 0s 32ms/step - loss: 0.5479 - recall: 0.8256 - val_loss: 0.5548 - val_recall: 0.8106\n",
      "Epoch 96/100\n",
      "2/2 [==============================] - 0s 33ms/step - loss: 0.5470 - recall: 0.8262 - val_loss: 0.5538 - val_recall: 0.8135\n",
      "Epoch 97/100\n",
      "2/2 [==============================] - 0s 32ms/step - loss: 0.5460 - recall: 0.8281 - val_loss: 0.5528 - val_recall: 0.8164\n",
      "Epoch 98/100\n",
      "2/2 [==============================] - 0s 33ms/step - loss: 0.5450 - recall: 0.8293 - val_loss: 0.5518 - val_recall: 0.8223\n",
      "Epoch 99/100\n",
      "2/2 [==============================] - 0s 33ms/step - loss: 0.5441 - recall: 0.8325 - val_loss: 0.5508 - val_recall: 0.8223\n",
      "Epoch 100/100\n",
      "2/2 [==============================] - 0s 40ms/step - loss: 0.5432 - recall: 0.8338 - val_loss: 0.5498 - val_recall: 0.8267\n"
     ]
    }
   ],
   "source": [
    "model.compile(loss='binary_crossentropy', optimizer='adam', metrics='Recall')\n",
    "\n",
    "history = model.fit(x_train_norm, y_train, epochs=100,\n",
    "                    batch_size=1200, validation_data=(x_val_norm, y_val))"
   ]
  },
  {
   "cell_type": "code",
   "execution_count": 36,
   "metadata": {},
   "outputs": [
    {
     "data": {
      "text/plain": [
       "<matplotlib.legend.Legend at 0x23362671e40>"
      ]
     },
     "execution_count": 36,
     "metadata": {},
     "output_type": "execute_result"
    },
    {
     "data": {
      "image/png": "[encoded data removed]",
      "text/plain": [
       "<Figure size 640x480 with 1 Axes>"
      ]
     },
     "metadata": {},
     "output_type": "display_data"
    }
   ],
   "source": [
    "import matplotlib.pyplot as plt\n",
    "plt.plot(range(1, 101), history.history['recall'], label=\"Treinamento\")\n",
    "plt.plot(range(1, 101), history.history['val_recall'], label=\"Validacao\")\n",
    "plt.legend(loc='best')"
   ]
  },
  {
   "cell_type": "code",
   "execution_count": 37,
   "metadata": {},
   "outputs": [
    {
     "data": {
      "text/plain": [
       "<matplotlib.legend.Legend at 0x23361508640>"
      ]
     },
     "execution_count": 37,
     "metadata": {},
     "output_type": "execute_result"
    },
    {
     "data": {
      "image/png": "[encoded data removed]",
      "text/plain": [
       "<Figure size 640x480 with 1 Axes>"
      ]
     },
     "metadata": {},
     "output_type": "display_data"
    }
   ],
   "source": [
    "import matplotlib.pyplot as plt\n",
    "plt.plot(range(1, 101), history.history['loss'], label=\"Treinamento\")\n",
    "plt.plot(range(1, 101), history.history['val_loss'], label=\"Validacao\")\n",
    "plt.legend(loc='best')"
   ]
  },
  {
   "cell_type": "code",
   "execution_count": 38,
   "metadata": {},
   "outputs": [
    {
     "name": "stdout",
     "output_type": "stream",
     "text": [
      "46/46 [==============================] - 0s 1ms/step\n",
      "              precision    recall  f1-score   support\n",
      "\n",
      "           0       0.63      0.53      0.57       484\n",
      "           1       0.78      0.84      0.81       973\n",
      "\n",
      "    accuracy                           0.74      1457\n",
      "   macro avg       0.71      0.69      0.69      1457\n",
      "weighted avg       0.73      0.74      0.73      1457\n",
      "\n"
     ]
    }
   ],
   "source": [
    "from sklearn.metrics import classification_report\n",
    "yhat_test = model.predict(x_test_norm)\n",
    "yhat_test_class = [1 if x > 0.5 else 0 for x in yhat_test]\n",
    "print(classification_report(y_test, yhat_test_class))"
   ]
  },
  {
   "cell_type": "code",
   "execution_count": 39,
   "metadata": {},
   "outputs": [
    {
     "name": "stdout",
     "output_type": "stream",
     "text": [
      "75/75 [==============================] - 0s 1ms/step\n"
     ]
    },
    {
     "data": {
      "text/plain": [
       "array([[0.45383894],\n",
       "       [0.78217524],\n",
       "       [0.4933691 ],\n",
       "       ...,\n",
       "       [0.8910585 ],\n",
       "       [0.74176115],\n",
       "       [0.5422192 ]], dtype=float32)"
      ]
     },
     "execution_count": 39,
     "metadata": {},
     "output_type": "execute_result"
    }
   ],
   "source": [
    "yhat_hist_train = model.predict(x_train_norm)\n",
    "yhat_hist_train"
   ]
  },
  {
   "cell_type": "code",
   "execution_count": 40,
   "metadata": {},
   "outputs": [
    {
     "name": "stdout",
     "output_type": "stream",
     "text": [
      "46/46 [==============================] - 0s 1ms/step\n"
     ]
    },
    {
     "data": {
      "text/plain": [
       "array([[0.8492564 ],\n",
       "       [0.7440856 ],\n",
       "       [0.49794412],\n",
       "       ...,\n",
       "       [0.9034014 ],\n",
       "       [0.7828603 ],\n",
       "       [0.58511275]], dtype=float32)"
      ]
     },
     "execution_count": 40,
     "metadata": {},
     "output_type": "execute_result"
    }
   ],
   "source": [
    "yhat_hist_test = model.predict(x_test_norm)\n",
    "yhat_hist_test"
   ]
  },
  {
   "cell_type": "code",
   "execution_count": 41,
   "metadata": {},
   "outputs": [
    {
     "data": {
      "image/png": "[encoded data removed]",
      "text/plain": [
       "<Figure size 640x480 with 1 Axes>"
      ]
     },
     "metadata": {},
     "output_type": "display_data"
    }
   ],
   "source": [
    "# Criar um heatmap usando seaborn\n",
    "from sklearn.metrics import confusion_matrix\n",
    "conf = confusion_matrix(y_test, yhat_test_class)\n",
    "import seaborn as sns\n",
    "sns.heatmap(conf, annot=True, fmt=\"d\", cmap=\"Blues\", cbar=False,\n",
    "            xticklabels=['Predito Negativo', 'Predito Positivo'],\n",
    "            yticklabels=['Real Negativo', 'Real Positivo'])\n",
    "\n",
    "plt.xlabel(\"Previsões\")\n",
    "plt.ylabel(\"Valores Reais\")\n",
    "plt.title(\"Matriz de Confusão\")\n",
    "plt.show()"
   ]
  },
  {
   "cell_type": "code",
   "execution_count": 42,
   "metadata": {},
   "outputs": [
    {
     "data": {
      "text/html": [
       "<div>\n",
       "<style scoped>\n",
       "    .dataframe tbody tr th:only-of-type {\n",
       "        vertical-align: middle;\n",
       "    }\n",
       "\n",
       "    .dataframe tbody tr th {\n",
       "        vertical-align: top;\n",
       "    }\n",
       "\n",
       "    .dataframe thead th {\n",
       "        text-align: right;\n",
       "    }\n",
       "</style>\n",
       "<table border=\"1\" class=\"dataframe\">\n",
       "  <thead>\n",
       "    <tr style=\"text-align: right;\">\n",
       "      <th></th>\n",
       "      <th>opinion</th>\n",
       "    </tr>\n",
       "  </thead>\n",
       "  <tbody>\n",
       "    <tr>\n",
       "      <th>1728</th>\n",
       "      <td>1</td>\n",
       "    </tr>\n",
       "    <tr>\n",
       "      <th>4470</th>\n",
       "      <td>1</td>\n",
       "    </tr>\n",
       "    <tr>\n",
       "      <th>3252</th>\n",
       "      <td>0</td>\n",
       "    </tr>\n",
       "    <tr>\n",
       "      <th>4010</th>\n",
       "      <td>1</td>\n",
       "    </tr>\n",
       "    <tr>\n",
       "      <th>3804</th>\n",
       "      <td>1</td>\n",
       "    </tr>\n",
       "    <tr>\n",
       "      <th>...</th>\n",
       "      <td>...</td>\n",
       "    </tr>\n",
       "    <tr>\n",
       "      <th>194</th>\n",
       "      <td>0</td>\n",
       "    </tr>\n",
       "    <tr>\n",
       "      <th>4156</th>\n",
       "      <td>1</td>\n",
       "    </tr>\n",
       "    <tr>\n",
       "      <th>3122</th>\n",
       "      <td>1</td>\n",
       "    </tr>\n",
       "    <tr>\n",
       "      <th>3184</th>\n",
       "      <td>1</td>\n",
       "    </tr>\n",
       "    <tr>\n",
       "      <th>2220</th>\n",
       "      <td>1</td>\n",
       "    </tr>\n",
       "  </tbody>\n",
       "</table>\n",
       "<p>1457 rows × 1 columns</p>\n",
       "</div>"
      ],
      "text/plain": [
       "      opinion\n",
       "1728        1\n",
       "4470        1\n",
       "3252        0\n",
       "4010        1\n",
       "3804        1\n",
       "...       ...\n",
       "194         0\n",
       "4156        1\n",
       "3122        1\n",
       "3184        1\n",
       "2220        1\n",
       "\n",
       "[1457 rows x 1 columns]"
      ]
     },
     "execution_count": 42,
     "metadata": {},
     "output_type": "execute_result"
    }
   ],
   "source": [
    "y_test"
   ]
  },
  {
   "cell_type": "code",
   "execution_count": 44,
   "metadata": {},
   "outputs": [
    {
     "data": {
      "image/png": "[encoded data removed]",
      "text/plain": [
       "<Figure size 1200x600 with 1 Axes>"
      ]
     },
     "metadata": {},
     "output_type": "display_data"
    }
   ],
   "source": [
    "plt.figure(figsize=(12,6))\n",
    "plt.title('Validacao')\n",
    "plt.hist(yhat_hist_train, label='treino')\n",
    "plt.hist(yhat_hist_test, color='green', label='test')\n",
    "plt.show()"
   ]
  }
 ],
 "metadata": {
  "kernelspec": {
   "display_name": "Python 3",
   "language": "python",
   "name": "python3"
  },
  "language_info": {
   "codemirror_mode": {
    "name": "ipython",
    "version": 3
   },
   "file_extension": ".py",
   "mimetype": "text/x-python",
   "name": "python",
   "nbconvert_exporter": "python",
   "pygments_lexer": "ipython3",
   "version": "3.10.7"
  }
 },
 "nbformat": 4,
 "nbformat_minor": 2
}
